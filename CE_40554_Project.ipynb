{
  "nbformat": 4,
  "nbformat_minor": 0,
  "metadata": {
    "kernelspec": {
      "display_name": "Python 3",
      "language": "python",
      "name": "python3"
    },
    "language_info": {
      "codemirror_mode": {
        "name": "ipython",
        "version": 3
      },
      "file_extension": ".py",
      "mimetype": "text/x-python",
      "name": "python",
      "nbconvert_exporter": "python",
      "pygments_lexer": "ipython3",
      "version": "3.7.4"
    },
    "colab": {
      "name": "CE-40554_Project.ipynb",
      "provenance": [],
      "toc_visible": true
    }
  },
  "cells": [
    {
      "cell_type": "markdown",
      "metadata": {
        "id": "FqoZpwFEDQFo",
        "colab_type": "text"
      },
      "source": [
        "# Bioinformatic Algorithms (CE-40554) Project\n",
        "The goal of this project is to implementing [**Kraken**](https://genomebiology.biomedcentral.com/articles/10.1186/gb-2014-15-3-r46#Sec11) tool, which is an ultrafast and highly accurate program for assigning taxonomic labels to metagenomic DNA sequences.\n"
      ]
    },
    {
      "cell_type": "markdown",
      "metadata": {
        "id": "A4YWJV_6LIW-",
        "colab_type": "text"
      },
      "source": [
        "# Requirements"
      ]
    },
    {
      "cell_type": "markdown",
      "metadata": {
        "id": "aTSAta9FEcqY",
        "colab_type": "text"
      },
      "source": [
        "\n",
        "\n",
        "## Installing and importing libraries\n",
        "\n",
        "\n",
        "\n",
        "*   [**ETE3**](http://etetoolkit.org/): A Python framework for the analysis and visualization of trees. \\\n",
        "We will using The **NCBITaxa** module in this library for downloading and manipulating ncbi taxonomy tree.\n",
        "*   [**Biopython**](https://biopython.org/): Biopython is a set of freely available tools for biological computation written in Python. \\\n",
        "We only need **SeqIO** module for reading fasta files.\n",
        "*   [**InSilicoSeq**](https://github.com/HadrienG/InSilicoSeq): A sequencing simulator producing realistic Illumina reads.\n",
        "*   [**Pandas**](https://pandas.pydata.org/): A fast, powerful open source data analysis and manipulation tool.\n",
        "*   [**Numpy**](https://numpy.org/): For generating random numbers.\n",
        "*   **ftplib**: For downloading genomes from ncbi ftp sever.\n",
        "*   **gzip**: opening and manipulating gunzip files.\n"
      ]
    },
    {
      "cell_type": "code",
      "metadata": {
        "id": "2VOyZ6ON-OQ1",
        "colab_type": "code",
        "colab": {}
      },
      "source": [
        "!pip install ete3\n",
        "!pip install biopython --upgrade\n",
        "!pip install InSilicoSeq"
      ],
      "execution_count": 0,
      "outputs": []
    },
    {
      "cell_type": "code",
      "metadata": {
        "id": "6_y_tER9-Db_",
        "colab_type": "code",
        "colab": {}
      },
      "source": [
        "from ete3 import NCBITaxa\n",
        "from Bio import SeqIO\n",
        "import numpy as np\n",
        "import pandas as pd\n",
        "import gzip\n",
        "from collections import defaultdict\n",
        "import ftplib\n",
        "import datetime\n",
        "import time\n",
        "import os\n",
        "import sys"
      ],
      "execution_count": 0,
      "outputs": []
    },
    {
      "cell_type": "markdown",
      "metadata": {
        "id": "lrAS9lXTK7In",
        "colab_type": "text"
      },
      "source": [
        "## Downloading tree structure from ncbi using ete3"
      ]
    },
    {
      "cell_type": "code",
      "metadata": {
        "id": "Xd_L7r_B-DcE",
        "colab_type": "code",
        "colab": {}
      },
      "source": [
        "ncbi = NCBITaxa()"
      ],
      "execution_count": 0,
      "outputs": []
    },
    {
      "cell_type": "markdown",
      "metadata": {
        "id": "0lF58TyBMHq3",
        "colab_type": "text"
      },
      "source": [
        "## Download assembly_summary file from ncbi\n",
        "This file contains all Taxon with annotations in ncbi."
      ]
    },
    {
      "cell_type": "code",
      "metadata": {
        "id": "UG8dvagxMH-h",
        "colab_type": "code",
        "colab": {}
      },
      "source": [
        "!wget ftp://ftp.ncbi.nlm.nih.gov/genomes/genbank/bacteria/assembly_summary.txt"
      ],
      "execution_count": 0,
      "outputs": []
    },
    {
      "cell_type": "markdown",
      "metadata": {
        "id": "6QMVqZpwLNkM",
        "colab_type": "text"
      },
      "source": [
        "## Input parameters\n",
        "\n",
        "\n",
        "\n",
        "*   **Taxon_name**: We only build index for Taxons which ***Taxon_name*** is an ancestor for them.\n",
        "*   **K_mer_length**: Length of each K-mer.\n",
        "*   **Minimizer_length**: Length of each Minimizer. \n",
        "\n"
      ]
    },
    {
      "cell_type": "code",
      "metadata": {
        "id": "eHiJW6uJ-DcJ",
        "colab_type": "code",
        "colab": {}
      },
      "source": [
        "Taxon_name = \"Acidobacteria\"\n",
        "K_mer_length = 31\n",
        "Minimizer_length = 13"
      ],
      "execution_count": 0,
      "outputs": []
    },
    {
      "cell_type": "markdown",
      "metadata": {
        "id": "gJV3MpZ7IJ24",
        "colab_type": "text"
      },
      "source": [
        "# Building Kraken Index"
      ]
    },
    {
      "cell_type": "markdown",
      "metadata": {
        "id": "1YgCjusQIRL2",
        "colab_type": "text"
      },
      "source": [
        "## Ncbi assembly_summary\n",
        "In this section, we use pandas package to read assembly_summary.txt and we just keep 3 columns *assembly_level*, *ftp_path*, *asm_name* for better memory usage. \n",
        "\n",
        "\n",
        "*   **get_taxid**: Takes a genome filename in ncbi and returns taxid of it based on records in assembly_summary.\n",
        "\n",
        "\n"
      ]
    },
    {
      "cell_type": "code",
      "metadata": {
        "id": "2NT7r4gw-DcN",
        "colab_type": "code",
        "colab": {}
      },
      "source": [
        "assembly_summary = pd.read_csv(\"assembly_summary.txt\", skiprows=1, sep=\"\\t\")\n",
        "assembly_summary.taxid = assembly_summary.taxid.apply(str)\n",
        "assembly_summary.set_index(\"taxid\", inplace=True)\n",
        "assembly_summary = assembly_summary[[\"assembly_level\", \"ftp_path\", \"asm_name\"]]\n",
        "\n",
        "def get_taxid(filename):\n",
        "    return assembly_summary[assembly_summary[\"asm_name\"] == \"\".join(filename.split(\"_\")[2])].index[0]"
      ],
      "execution_count": 0,
      "outputs": []
    },
    {
      "cell_type": "markdown",
      "metadata": {
        "id": "B6htOrBHPvuM",
        "colab_type": "text"
      },
      "source": [
        "## Find subtree\n",
        "using *Taxon_name*, we capture subtree which *Taxon_name* is root of that tree  from the ncbi whole taxonomy tree in order to find all descendant tax_ids"
      ]
    },
    {
      "cell_type": "code",
      "metadata": {
        "id": "yW2qoRAZ-DcS",
        "colab_type": "code",
        "colab": {}
      },
      "source": [
        "root_taxid = ncbi.get_name_translator([Taxon_name])[Taxon_name][0]\n",
        "taxonomy_tree = ncbi.get_descendant_taxa(root_taxid, return_tree=True)"
      ],
      "execution_count": 0,
      "outputs": []
    },
    {
      "cell_type": "markdown",
      "metadata": {
        "id": "qOxLPzQQO0zW",
        "colab_type": "text"
      },
      "source": [
        "## Downloading genomes from ncbi ftp\n",
        "\n",
        "Note: we just download genomes which their ncbi assembly level is complete. "
      ]
    },
    {
      "cell_type": "code",
      "metadata": {
        "id": "6TFppfdl-DcW",
        "colab_type": "code",
        "colab": {
          "base_uri": "https://localhost:8080/",
          "height": 658
        },
        "outputId": "cc9d6e72-3662-4c77-c5fd-51c8dbdf8866"
      },
      "source": [
        "def log(msg):\n",
        "    timestamp = datetime.datetime.now().strftime(\"%Y-%m-%d %T\")\n",
        "    print('[-- {} --] {}'.format(timestamp, msg), file=sys.stderr)\n",
        "\n",
        "if not os.path.exists(Taxon_name+\"_Genomes\"):\n",
        "        os.mkdir(Taxon_name+\"_Genomes\")\n",
        "\n",
        "server = 'ftp.ncbi.nlm.nih.gov'\n",
        "log(\"connecting to server\")\n",
        "ftp = ftplib.FTP(server)\n",
        "ftp.login()\n",
        "\n",
        "for taxid in taxonomy_tree.get_leaves():\n",
        "    if taxid.name in assembly_summary.index:\n",
        "        if \"Complete Genome\" in assembly_summary.loc[taxid.name][\"assembly_level\"]:\n",
        "            directory = assembly_summary.loc[taxid.name][\"ftp_path\"].split(\"ftp://\"+ server + \"/\")[1]\n",
        "            file = assembly_summary.loc[taxid.name][\"ftp_path\"].split(\"/\")[-1] + \"_genomic.fna.gz\"\n",
        "            \n",
        "            log(\"changing to directory: {}\".format(directory))\n",
        "            ftp.cwd(directory)\n",
        "            \n",
        "            log(\"starting to download: {}\".format(file))\n",
        "            ftp.retrbinary(\"RETR {}\".format(file), open(os.path.join(Taxon_name+\"_Genomes\", file), 'wb').write)\n",
        "            ftp.cwd('/')\n",
        "            \n",
        "            log(\"finished download\")\n",
        "            \n",
        "            \n",
        "ftp.quit()"
      ],
      "execution_count": 8,
      "outputs": [
        {
          "output_type": "stream",
          "text": [
            "[-- 2020-02-05 19:44:02 --] connecting to server\n",
            "[-- 2020-02-05 19:44:02 --] changing to directory: genomes/all/GCA/010/093/025/GCA_010093025.1_ASM1009302v1\n",
            "[-- 2020-02-05 19:44:02 --] starting to download: GCA_010093025.1_ASM1009302v1_genomic.fna.gz\n",
            "[-- 2020-02-05 19:44:02 --] finished download\n",
            "[-- 2020-02-05 19:44:02 --] changing to directory: genomes/all/GCA/000/022/565/GCA_000022565.1_ASM2256v1\n",
            "[-- 2020-02-05 19:44:02 --] starting to download: GCA_000022565.1_ASM2256v1_genomic.fna.gz\n",
            "[-- 2020-02-05 19:44:02 --] finished download\n",
            "[-- 2020-02-05 19:44:03 --] changing to directory: genomes/all/GCA/000/178/975/GCA_000178975.2_ASM17897v2\n",
            "[-- 2020-02-05 19:44:03 --] starting to download: GCA_000178975.2_ASM17897v2_genomic.fna.gz\n",
            "[-- 2020-02-05 19:44:03 --] finished download\n",
            "[-- 2020-02-05 19:44:03 --] changing to directory: genomes/all/GCA/000/178/955/GCA_000178955.2_ASM17895v2\n",
            "[-- 2020-02-05 19:44:03 --] starting to download: GCA_000178955.2_ASM17895v2_genomic.fna.gz\n",
            "[-- 2020-02-05 19:44:03 --] finished download\n",
            "[-- 2020-02-05 19:44:03 --] changing to directory: genomes/all/GCA/000/179/915/GCA_000179915.2_ASM17991v2\n",
            "[-- 2020-02-05 19:44:03 --] starting to download: GCA_000179915.2_ASM17991v2_genomic.fna.gz\n",
            "[-- 2020-02-05 19:44:04 --] finished download\n",
            "[-- 2020-02-05 19:44:04 --] changing to directory: genomes/all/GCA/008/000/815/GCA_008000815.1_ASM800081v1\n",
            "[-- 2020-02-05 19:44:04 --] starting to download: GCA_008000815.1_ASM800081v1_genomic.fna.gz\n",
            "[-- 2020-02-05 19:44:04 --] finished download\n",
            "[-- 2020-02-05 19:44:04 --] changing to directory: genomes/all/GCA/000/265/425/GCA_000265425.1_ASM26542v1\n",
            "[-- 2020-02-05 19:44:04 --] starting to download: GCA_000265425.1_ASM26542v1_genomic.fna.gz\n",
            "[-- 2020-02-05 19:44:04 --] finished download\n",
            "[-- 2020-02-05 19:44:04 --] changing to directory: genomes/all/GCA/000/014/005/GCA_000014005.1_ASM1400v1\n",
            "[-- 2020-02-05 19:44:04 --] starting to download: GCA_000014005.1_ASM1400v1_genomic.fna.gz\n",
            "[-- 2020-02-05 19:44:05 --] finished download\n",
            "[-- 2020-02-05 19:44:05 --] changing to directory: genomes/all/GCA/003/330/725/GCA_003330725.1_ASM333072v1\n",
            "[-- 2020-02-05 19:44:05 --] starting to download: GCA_003330725.1_ASM333072v1_genomic.fna.gz\n",
            "[-- 2020-02-05 19:44:05 --] finished download\n",
            "[-- 2020-02-05 19:44:05 --] changing to directory: genomes/all/GCA/000/014/905/GCA_000014905.1_ASM1490v1\n",
            "[-- 2020-02-05 19:44:05 --] starting to download: GCA_000014905.1_ASM1490v1_genomic.fna.gz\n",
            "[-- 2020-02-05 19:44:05 --] finished download\n",
            "[-- 2020-02-05 19:44:07 --] changing to directory: genomes/all/GCA/001/618/865/GCA_001618865.1_ASM161886v1\n",
            "[-- 2020-02-05 19:44:07 --] starting to download: GCA_001618865.1_ASM161886v1_genomic.fna.gz\n",
            "[-- 2020-02-05 19:44:08 --] finished download\n",
            "[-- 2020-02-05 19:44:08 --] changing to directory: genomes/all/GCA/000/226/295/GCA_000226295.1_ASM22629v1\n",
            "[-- 2020-02-05 19:44:08 --] starting to download: GCA_000226295.1_ASM22629v1_genomic.fna.gz\n",
            "[-- 2020-02-05 19:44:08 --] finished download\n"
          ],
          "name": "stderr"
        },
        {
          "output_type": "execute_result",
          "data": {
            "text/plain": [
              "'221 Goodbye.'"
            ]
          },
          "metadata": {
            "tags": []
          },
          "execution_count": 8
        }
      ]
    },
    {
      "cell_type": "markdown",
      "metadata": {
        "id": "53G6RBaqRgng",
        "colab_type": "text"
      },
      "source": [
        "## Xor Minimizer \n",
        "we use the exclusive-or (XOR) operation to toggle all of the bits of each Minimizer prior to comparing the M-mers to each other using lexicographical ordering. This XOR operation effectively scrambles the standard ordering, and prevents the large bias toward low-complexity minimizers.\n",
        "\n",
        "*   **encryption**: Takes a minimizer and turn minimizer to a binary string which A = 00, C = 01, G = 10, T = 11, and then XOR this binary string with a random number.  \n",
        "*   **decryption**: Takes an encrypted int and XOR this int with random_int number and then turn this binary string to decrypted minimizer. \n",
        "\n",
        "\n"
      ]
    },
    {
      "cell_type": "code",
      "metadata": {
        "id": "uGElcUOe-Dcf",
        "colab_type": "code",
        "colab": {}
      },
      "source": [
        "dec_dictionary = {\"11\": \"T\", \"10\": \"G\", \"01\": \"C\", \"00\": \"A\"}\n",
        "en_dictionary = {\"A\": \"00\", \"C\": \"01\", \"G\": \"10\", \"T\": \"11\"}\n",
        "\n",
        "random_int = np.random.randint(np.iinfo(np.int32).min, np.iinfo(np.int32).max,  size=1)[0]\n",
        "\n",
        "def decryption(encrypted_int):\n",
        "    ans = \"\"\n",
        "    stop = Minimizer_length\n",
        "    binary_str = format(encrypted_int ^ random_int, '0'+ str(2*Minimizer_length) + 'b')\n",
        "    \n",
        "    for i in range(0, len(binary_str), 2):\n",
        "        ans += dec_dictionary[binary_str[i:i+2]]\n",
        "        stop -= 1\n",
        "        if stop == 0:\n",
        "            break\n",
        "    return ans\n",
        "\n",
        "\n",
        "def encryption(minimizer):\n",
        "    binary_str = \"\"\n",
        "    for letter in minimizer:\n",
        "        binary_str += en_dictionary[letter]\n",
        "    return int(binary_str, 2) ^ random_int"
      ],
      "execution_count": 0,
      "outputs": []
    },
    {
      "cell_type": "markdown",
      "metadata": {
        "id": "VeX29foofUco",
        "colab_type": "text"
      },
      "source": [
        "## K-mer representation\n",
        "For efficient memory usage we turn each K-mer to binary string and store it in bytes. because for every nucleotide we need only two bits."
      ]
    },
    {
      "cell_type": "code",
      "metadata": {
        "id": "oq16BTJuRvbz",
        "colab_type": "code",
        "colab": {}
      },
      "source": [
        "def bytes_to_kmer(bytes_kmer):\n",
        "    ans = \"\"\n",
        "    stop = Minimizer_length\n",
        "    for x in bytes_kmer:\n",
        "        for i in range(0,8,2):\n",
        "            ans += dec_dictionary['{0:08b}'.format(x)[i:i+2]]\n",
        "            stop -= 1\n",
        "            if stop == 0:\n",
        "                break\n",
        "    return ans\n",
        "\n",
        "def int_to_bytes(x: int) -> bytes:\n",
        "    return x.to_bytes((x.bit_length() + 7) // 8, 'big')\n",
        "\n",
        "def kmer_to_bytes(kmer):\n",
        "    binary_str = \"\"\n",
        "    for letter in kmer:\n",
        "        binary_str += en_dictionary[letter]\n",
        "    return bytes(int_to_bytes(int(binary_str, 2)))"
      ],
      "execution_count": 0,
      "outputs": []
    },
    {
      "cell_type": "markdown",
      "metadata": {
        "id": "ux3qYHcmleTC",
        "colab_type": "text"
      },
      "source": [
        "## Finding Minimizer\n",
        "\n",
        "\n",
        "\n",
        "*   **reverse_complement**: This function takes a sequence and returns it's reverse complement.\n",
        "*   **new_minimizer**: Takes a K-mer and returns K-mers's minimizer and it's position in K-mer sequence.  \n",
        "Note: we must find minimizer in K-mer sequence and it's reverse complement.\n",
        "*   **append_in_index** : Takes minimizer as key, K-mer as value and taxid of the genome. then append this record to index, if K-mer exist in index override the taxid and put Lowest Common Ancestor in index.\n"
      ]
    },
    {
      "cell_type": "code",
      "metadata": {
        "id": "3Jztw4ls-Dci",
        "colab_type": "code",
        "colab": {}
      },
      "source": [
        "reverse_dict = {\"A\": \"T\", \"T\": \"A\", \"G\": \"C\", \"C\": \"G\"}\n",
        "\n",
        "def reverse_complement(dna):\n",
        "    dna = dna[::-1]\n",
        "    reverse = \"\"\n",
        "    for nuc in dna:\n",
        "        reverse += reverse_dict[nuc]\n",
        "    return reverse\n",
        "\n",
        "\n",
        "def new_minimizer(k_mer):\n",
        "    ans = np.inf\n",
        "    index_ans = None\n",
        "    for i in range(0, len(k_mer)-Minimizer_length+1):\n",
        "        enc_minimizer = encryption(k_mer[i:i+Minimizer_length])\n",
        "        if enc_minimizer < ans:\n",
        "            ans = enc_minimizer\n",
        "            index_ans = i\n",
        "    \n",
        "    k_mer = reverse_complement(k_mer)\n",
        "    for i in range(0, len(k_mer)-Minimizer_length):\n",
        "        enc_minimizer = encryption(k_mer[i:i+Minimizer_length])\n",
        "        if enc_minimizer < ans:\n",
        "            ans = enc_minimizer\n",
        "            index_ans = len(k_mer) - (i+Minimizer_length)\n",
        "    return ans, index_ans\n",
        "    \n",
        "def append_in_index(key, value, taxid):\n",
        "  if value in index_dic[key].keys():\n",
        "      if taxid != index_dic[key][value]:\n",
        "          index_dic[key][value] = int(taxonomy_tree.get_common_ancestor(str(taxid), str(index_dic[key][value])).name)\n",
        "  else:\n",
        "      index_dic[key][value] = taxid"
      ],
      "execution_count": 0,
      "outputs": []
    },
    {
      "cell_type": "markdown",
      "metadata": {
        "id": "M6GFuhvapQ8Q",
        "colab_type": "text"
      },
      "source": [
        "## Constructing index file\n",
        "In this section, we constructing our index for all genomes that we downloaded from ncbi. for each record in bacteria genome. for better runtime, when we want to calculate minimizer for new k-mer we just check if previous minimizer is still exist or if two new M-mer in last part of new K-mer is smaller that prevoius K-mer. \\"
      ]
    },
    {
      "cell_type": "code",
      "metadata": {
        "id": "NqqSdjJr-Dcm",
        "colab_type": "code",
        "colab": {
          "base_uri": "https://localhost:8080/",
          "height": 219
        },
        "outputId": "1bb459fb-a18a-499b-cfd8-132aa3951375"
      },
      "source": [
        "start_time = time.time()\n",
        "count = 0\n",
        "index_dic = defaultdict(dict)\n",
        "\n",
        "for file in os.listdir(os.path.join(os.getcwd(),Taxon_name+\"_Genomes\")):\n",
        "    if file.endswith(\".fna.gz\"):\n",
        "        with gzip.open(os.path.join(os.getcwd(),Taxon_name+\"_Genomes\", file), \"rt\") as handle:\n",
        "            count = 0\n",
        "            taxid = int(get_taxid(file))\n",
        "            for record in SeqIO.parse(handle, \"fasta\"):\n",
        "                minimizer, index_minimizer = new_minimizer(record.seq[:K_mer_length])\n",
        "                append_in_index(minimizer, kmer_to_bytes(str(record.seq[:K_mer_length])), taxid)\n",
        "                for i in range(1, len(record.seq)-K_mer_length+1):\n",
        "                    count += 1\n",
        "                    index_minimizer -= 1\n",
        "                    if index_minimizer < 0: # previous minimizer is dead\n",
        "                        minimizer, index_minimizer = new_minimizer(record.seq[i:i+K_mer_length])\n",
        "                    else: # better minimizer\n",
        "                        enc_last_minimizer = encryption(record.seq[i + K_mer_length - Minimizer_length-1:i+K_mer_length-1])\n",
        "                        if enc_last_minimizer < minimizer: \n",
        "                            minimizer = enc_last_minimizer\n",
        "                            index_minimizer = K_mer_length - Minimizer_length\n",
        "                        enc_last_rev_minimizer = encryption(reverse_complement(record.seq[i + K_mer_length - Minimizer_length-1:i+K_mer_length-1]))\n",
        "                        if enc_last_rev_minimizer < minimizer:\n",
        "                            minimizer = enc_last_rev_minimizer\n",
        "                            index_minimizer = K_mer_length - Minimizer_length\n",
        "\n",
        "                    append_in_index(minimizer, kmer_to_bytes(str(record.seq[i:i+K_mer_length])), taxid)\n",
        "                    \n",
        "  \n",
        "        print(\"FileName:\", file, \"Number of k-mers:\", count, \"--- %s seconds ---\" % (time.time() - start_time))\n",
        "        start_time = time.time()"
      ],
      "execution_count": 12,
      "outputs": [
        {
          "output_type": "stream",
          "text": [
            "FileName: GCA_008000815.1_ASM800081v1_genomic.fna.gz Number of k-mers: 6405551 --- 213.53650331497192 seconds ---\n",
            "FileName: GCA_001618865.1_ASM161886v1_genomic.fna.gz Number of k-mers: 7480283 --- 250.50765776634216 seconds ---\n",
            "FileName: GCA_010093025.1_ASM1009302v1_genomic.fna.gz Number of k-mers: 4554810 --- 154.85940504074097 seconds ---\n",
            "FileName: GCA_000022565.1_ASM2256v1_genomic.fna.gz Number of k-mers: 4127325 --- 139.8501923084259 seconds ---\n",
            "FileName: GCA_000265425.1_ASM26542v1_genomic.fna.gz Number of k-mers: 5227827 --- 179.03068113327026 seconds ---\n",
            "FileName: GCA_000014005.1_ASM1400v1_genomic.fna.gz Number of k-mers: 5650337 --- 190.36178040504456 seconds ---\n",
            "FileName: GCA_000014905.1_ASM1490v1_genomic.fna.gz Number of k-mers: 9965609 --- 338.40805530548096 seconds ---\n",
            "FileName: GCA_000179915.2_ASM17991v2_genomic.fna.gz Number of k-mers: 5095195 --- 176.93298363685608 seconds ---\n",
            "FileName: GCA_000226295.1_ASM22629v1_genomic.fna.gz Number of k-mers: 3695310 --- 126.12958598136902 seconds ---\n",
            "FileName: GCA_000178955.2_ASM17895v2_genomic.fna.gz Number of k-mers: 6237546 --- 215.1463611125946 seconds ---\n",
            "FileName: GCA_000178975.2_ASM17897v2_genomic.fna.gz Number of k-mers: 5503798 --- 192.94778323173523 seconds ---\n",
            "FileName: GCA_003330725.1_ASM333072v1_genomic.fna.gz Number of k-mers: 7600571 --- 265.8284749984741 seconds ---\n"
          ],
          "name": "stdout"
        }
      ]
    },
    {
      "cell_type": "markdown",
      "metadata": {
        "id": "DSknGjzOTs3F",
        "colab_type": "text"
      },
      "source": [
        "# Computing Score\n",
        "\n",
        "For each read we assign them to a tax_id\n",
        "\n",
        "\n",
        "*   **assign_score**: Takes K-mer and it's minimizer and if this K-mer is in the index file gives +1 to it's tax_id score.\n",
        "*   **best_tax_id**: Takes a score dictionary from Read and returns the best tax_id for this Read.\n",
        "\n"
      ]
    },
    {
      "cell_type": "code",
      "metadata": {
        "id": "1-5JizDH-DdI",
        "colab_type": "code",
        "colab": {}
      },
      "source": [
        "def assign_score(kmer, minimizer):\n",
        "    if kmer in index_dic[minimizer]:\n",
        "        if index_dic[minimizer][kmer] not in score.keys():\n",
        "            score[index_dic[minimizer][kmer]] = 1\n",
        "        else:\n",
        "            score[index_dic[minimizer][kmer]] += 1\n",
        "\n",
        "def best_tax_id(score):\n",
        "  best_score = 0\n",
        "  best_nodes = []\n",
        "  for key in score.keys():\n",
        "    item_value = 0\n",
        "    for parent in ncbi.get_lineage(key)[::-1]:\n",
        "      if parent in score:\n",
        "        item_value += score[parent]\n",
        "    if item_value > best_score:\n",
        "      best_score = item_value\n",
        "      best_nodes = [key]\n",
        "    elif item_value == best_score:\n",
        "      best_score = item_value\n",
        "      best_nodes.append(key)\n",
        "  if len(best_nodes) == 1:\n",
        "    return best_nodes[0]\n",
        "  else:\n",
        "    return int(taxonomy_tree.get_common_ancestor([str(x) for x in best_nodes]).name) \n"
      ],
      "execution_count": 0,
      "outputs": []
    },
    {
      "cell_type": "markdown",
      "metadata": {
        "id": "7SiiFtuY5q-s",
        "colab_type": "text"
      },
      "source": [
        "# Testing\n"
      ]
    },
    {
      "cell_type": "markdown",
      "metadata": {
        "id": "jj2fT59nGZV0",
        "colab_type": "text"
      },
      "source": [
        "## Create Test reads\n",
        "\n",
        "In this section we generate reads from downloaded bacteria genomes using InSilicoSeq package. first we specify **number_of_genomes_to_test**, then we randomly choose them and generate random numbers for specify number of reads to simulate from these genomes.\n"
      ]
    },
    {
      "cell_type": "code",
      "metadata": {
        "id": "gFR5jd0m54q7",
        "colab_type": "code",
        "colab": {}
      },
      "source": [
        "number_of_genomes_to_test = 3\n",
        "\n",
        "\n",
        "existing_genomes = []\n",
        "for file in os.listdir(os.path.join(os.getcwd(),Taxon_name+\"_Genomes\")):\n",
        "  if file.endswith(\".fna.gz\"):\n",
        "    existing_genomes.append(file)\n",
        "\n",
        "if number_of_genomes_to_test > len(existing_genomes):\n",
        "  number_of_genomes_to_test = len(existing_genomes)\n",
        "\n",
        "random_genomes = np.random.choice(existing_genomes, number_of_genomes_to_test)\n",
        "random_count = np.random.randint(1000, 100000, number_of_genomes_to_test)\n",
        "\n",
        "if not os.path.exists(\"Reads\"):\n",
        "        os.mkdir(\"Reads\")\n",
        "\n",
        "for i in range(number_of_genomes_to_test):\n",
        "  file = random_genomes[i]\n",
        "  file_path = os.path.join(os.getcwd(), Taxon_name+\"_Genomes\", file)\n",
        "  !gunzip -k $file_path\n",
        "  file_path = file_path[:-3]\n",
        "  count = random_count[i]\n",
        "  save_path = os.path.join(os.getcwd(), \"Reads\", file[:-7])\n",
        "  !iss generate -g $file_path -n $count --model hiseq --output $save_path"
      ],
      "execution_count": 0,
      "outputs": []
    },
    {
      "cell_type": "code",
      "metadata": {
        "id": "1VbIRXZEW8xt",
        "colab_type": "code",
        "colab": {
          "base_uri": "https://localhost:8080/",
          "height": 67
        },
        "outputId": "bdfcf068-4b1a-43a4-c3c5-0fd8259f8e8c"
      },
      "source": [
        "for i in range(number_of_genomes_to_test):\n",
        "  print(\"Genome Name:\" , random_genomes[i], \"---\", \"Number of Reads:\", random_count[i])"
      ],
      "execution_count": 15,
      "outputs": [
        {
          "output_type": "stream",
          "text": [
            "Genome Name: GCA_000178955.2_ASM17895v2_genomic.fna.gz --- Number of Reads: 39477\n",
            "Genome Name: GCA_010093025.1_ASM1009302v1_genomic.fna.gz --- Number of Reads: 7457\n",
            "Genome Name: GCA_000178975.2_ASM17897v2_genomic.fna.gz --- Number of Reads: 29722\n"
          ],
          "name": "stdout"
        }
      ]
    },
    {
      "cell_type": "markdown",
      "metadata": {
        "id": "_dZcwYf4bGsa",
        "colab_type": "text"
      },
      "source": [
        "## Scoring each simulation files\n",
        "\n",
        "For each file in Reads (Simulation) folder, we proccess each read in this file and computes best tax_id for this read, best tax_id is defined as best RTL (root to leaf) score. \\\n",
        "After that, we store each file score in a dictionary called *all_score*."
      ]
    },
    {
      "cell_type": "code",
      "metadata": {
        "id": "pJqCNHjlfpKj",
        "colab_type": "code",
        "colab": {}
      },
      "source": [
        "all_score = {}\n",
        "for file in os.listdir(os.path.join(os.getcwd(),\"Reads\")):\n",
        "  if file.endswith(\".fastq\"):\n",
        "    final_score = {}\n",
        "    for record in SeqIO.parse(os.path.join(os.getcwd(),\"Reads\", file), \"fastq\"):\n",
        "      read = \"\"\n",
        "      if \"R2\" in file:\n",
        "        read = str(record.reverse_complement().seq)\n",
        "      else:\n",
        "        read = str(record.seq)\n",
        "      score = {}\n",
        "      count += 1\n",
        "      minimizer, index_minimizer = new_minimizer(read[:K_mer_length])\n",
        "      assign_score(kmer_to_bytes(read[:K_mer_length]), minimizer)\n",
        "      for i in range(1, len(read)-K_mer_length+1):\n",
        "        index_minimizer -= 1\n",
        "        if index_minimizer < 0: #previous minimizer is dead\n",
        "            minimizer, index_minimizer = new_minimizer(read[i:i+K_mer_length])\n",
        "        else: # better minimizer\n",
        "            enc_last_minimizer = encryption(read[i + K_mer_length - Minimizer_length-1:i+K_mer_length-1])\n",
        "            if enc_last_minimizer < minimizer: \n",
        "                minimizer = enc_last_minimizer\n",
        "                index_minimizer = K_mer_length - Minimizer_length\n",
        "            enc_last_rev_minimizer = encryption(reverse_complement(read[i + K_mer_length - Minimizer_length-1:i+K_mer_length-1]))\n",
        "            if enc_last_rev_minimizer < minimizer:\n",
        "                minimizer = enc_last_rev_minimizer\n",
        "                index_minimizer = K_mer_length - Minimizer_length \n",
        "        assign_score(kmer_to_bytes(read[i:i+K_mer_length]), minimizer)\n",
        "\n",
        "      best_RTL = None\n",
        "      if len(score) == 0:\n",
        "        continue\n",
        "      elif len(score) == 1:\n",
        "        best_RTL = next(iter(score.keys()))\n",
        "      else:\n",
        "        best_RTL = best_tax_id(score)\n",
        "      if best_RTL not in final_score:\n",
        "        final_score[best_RTL] = 0\n",
        "      final_score[best_RTL] +=1\n",
        "\n",
        "    all_score[file] = final_score\n"
      ],
      "execution_count": 0,
      "outputs": []
    },
    {
      "cell_type": "markdown",
      "metadata": {
        "id": "SJNyjtPozX-j",
        "colab_type": "text"
      },
      "source": [
        "## Ploting true and predicted Taxid \n",
        "\n"
      ]
    },
    {
      "cell_type": "code",
      "metadata": {
        "id": "tVNoM3lL-DdS",
        "colab_type": "code",
        "colab": {
          "base_uri": "https://localhost:8080/",
          "height": 728
        },
        "outputId": "3319621a-afa5-4b29-9b0c-64ca6e593b0d"
      },
      "source": [
        "import matplotlib.pyplot as plt\n",
        "\n",
        "true_values = []\n",
        "predicted_values = []\n",
        "labels = [int(get_taxid(x)) for x in random_genomes]\n",
        "\n",
        "\n",
        "for i in range(number_of_genomes_to_test):\n",
        "  true_values.append(random_count[i])\n",
        "  predicted = 0\n",
        "  for key, value in all_score.items():\n",
        "    for taxid, count in value.items():\n",
        "      if taxid == labels[i]:\n",
        "        predicted += count\n",
        "  predicted_values.append(predicted)\n",
        "\n",
        "\n",
        "x = np.arange(len(labels))  # the label locations\n",
        "width = 0.25  # the width of the bars\n",
        "\n",
        "fig, ax = plt.subplots(figsize=(15,10))\n",
        "rects1 = ax.bar(x - width/2, true_values, width, label='True_values')\n",
        "rects2 = ax.bar(x + width/2, predicted_values, width, label='Predicted_values')\n",
        "\n",
        "# Add some text for labels, title and custom x-axis tick labels, etc.\n",
        "ax.set_ylabel('Count')\n",
        "ax.set_xticks(x)\n",
        "ax.set_xticklabels(labels)\n",
        "ax.legend()\n",
        "\n",
        "\n",
        "def autolabel(rects):\n",
        "    \"\"\"Attach a text label above each bar in *rects*, displaying its height.\"\"\"\n",
        "    for rect in rects:\n",
        "        height = rect.get_height()\n",
        "        ax.annotate('{}'.format(height),\n",
        "                    xy=(rect.get_x() + rect.get_width() / 2, height),\n",
        "                    xytext=(0, 3),  # 3 points vertical offset\n",
        "                    textcoords=\"offset points\",\n",
        "                    ha='center', va='bottom')\n",
        "\n",
        "\n",
        "autolabel(rects1)\n",
        "autolabel(rects2)\n",
        "\n",
        "fig.tight_layout()"
      ],
      "execution_count": 17,
      "outputs": [
        {
          "output_type": "display_data",
          "data": {
            "image/png": "[encoded data removed]",
            "text/plain": [
              "<Figure size 1080x720 with 1 Axes>"
            ]
          },
          "metadata": {
            "tags": []
          }
        }
      ]
    },
    {
      "cell_type": "markdown",
      "metadata": {
        "id": "P_LwhDnazmrI",
        "colab_type": "text"
      },
      "source": [
        "# Minimizer Distribution\n",
        "\n",
        "Because we XOR each minimizer with random number, we expected that distribution of minimizer will not be skewed to low-complexity Minimizers."
      ]
    },
    {
      "cell_type": "code",
      "metadata": {
        "id": "tSLAUROJzp7c",
        "colab_type": "code",
        "colab": {
          "base_uri": "https://localhost:8080/",
          "height": 605
        },
        "outputId": "b67fed00-2da7-45a2-d1bf-5c22b142d7e8"
      },
      "source": [
        "minimizer_count = []\n",
        "for minimizer, k_mer in index_dic.items():\n",
        "  minimizer_count.append(len(k_mer))\n",
        "\n",
        "# the histogram of the data\n",
        "plt.figure(figsize=(15,10))\n",
        "n, bins, patches = plt.hist(minimizer_count, 1, facecolor='g', alpha=0.75)\n",
        "plt.xlabel('Number of K-mers in Minimizer')\n",
        "plt.ylabel('Number of Minimizers')\n",
        "plt.grid(True)\n",
        "plt.show()"
      ],
      "execution_count": 18,
      "outputs": [
        {
          "output_type": "display_data",
          "data": {
            "image/png": "[encoded data removed]",
            "text/plain": [
              "<Figure size 1080x720 with 1 Axes>"
            ]
          },
          "metadata": {
            "tags": []
          }
        }
      ]
    }
  ]
}